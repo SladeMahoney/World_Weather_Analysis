{
 "cells": [
  {
   "cell_type": "code",
   "execution_count": 47,
   "metadata": {},
   "outputs": [],
   "source": [
    "# Import the dependencies.\n",
    "import pandas as pd\n",
    "import matplotlib.pyplot as plt\n",
    "import numpy as np\n",
    "import requests\n",
    "import time\n",
    "# Import the dependencies.\n",
    "import pandas as pd\n",
    "import gmaps\n",
    "import requests\n",
    "# Import the API key.\n",
    "from config import g_key\n",
    "gmaps.configure(api_key=g_key)"
   ]
  },
  {
   "cell_type": "code",
   "execution_count": 48,
   "metadata": {},
   "outputs": [
    {
     "data": {
      "text/html": [
       "<div>\n",
       "<style scoped>\n",
       "    .dataframe tbody tr th:only-of-type {\n",
       "        vertical-align: middle;\n",
       "    }\n",
       "\n",
       "    .dataframe tbody tr th {\n",
       "        vertical-align: top;\n",
       "    }\n",
       "\n",
       "    .dataframe thead th {\n",
       "        text-align: right;\n",
       "    }\n",
       "</style>\n",
       "<table border=\"1\" class=\"dataframe\">\n",
       "  <thead>\n",
       "    <tr style=\"text-align: right;\">\n",
       "      <th></th>\n",
       "      <th>City_ID</th>\n",
       "      <th>City</th>\n",
       "      <th>Country</th>\n",
       "      <th>Max Temp</th>\n",
       "      <th>Lat</th>\n",
       "      <th>Lng</th>\n",
       "      <th>Weather Description</th>\n",
       "      <th>Hotel Name</th>\n",
       "    </tr>\n",
       "  </thead>\n",
       "  <tbody>\n",
       "    <tr>\n",
       "      <th>0</th>\n",
       "      <td>2</td>\n",
       "      <td>Atuona</td>\n",
       "      <td>PF</td>\n",
       "      <td>80.11</td>\n",
       "      <td>-9.80</td>\n",
       "      <td>-139.03</td>\n",
       "      <td>clear sky</td>\n",
       "      <td>Villa Enata</td>\n",
       "    </tr>\n",
       "    <tr>\n",
       "      <th>1</th>\n",
       "      <td>7</td>\n",
       "      <td>Hithadhoo</td>\n",
       "      <td>MV</td>\n",
       "      <td>83.70</td>\n",
       "      <td>-0.60</td>\n",
       "      <td>73.08</td>\n",
       "      <td>overcast clouds</td>\n",
       "      <td>Scoop Guest House</td>\n",
       "    </tr>\n",
       "    <tr>\n",
       "      <th>2</th>\n",
       "      <td>9</td>\n",
       "      <td>Maine-Soroa</td>\n",
       "      <td>NE</td>\n",
       "      <td>85.82</td>\n",
       "      <td>13.21</td>\n",
       "      <td>12.02</td>\n",
       "      <td>clear sky</td>\n",
       "      <td>NaN</td>\n",
       "    </tr>\n",
       "    <tr>\n",
       "      <th>3</th>\n",
       "      <td>10</td>\n",
       "      <td>Ambon</td>\n",
       "      <td>ID</td>\n",
       "      <td>82.40</td>\n",
       "      <td>-3.70</td>\n",
       "      <td>128.18</td>\n",
       "      <td>shower rain</td>\n",
       "      <td>Swiss-Belhotel Ambon</td>\n",
       "    </tr>\n",
       "    <tr>\n",
       "      <th>4</th>\n",
       "      <td>11</td>\n",
       "      <td>Nieuw Amsterdam</td>\n",
       "      <td>SR</td>\n",
       "      <td>82.40</td>\n",
       "      <td>5.88</td>\n",
       "      <td>-55.08</td>\n",
       "      <td>few clouds</td>\n",
       "      <td>Hotel Stardust</td>\n",
       "    </tr>\n",
       "    <tr>\n",
       "      <th>...</th>\n",
       "      <td>...</td>\n",
       "      <td>...</td>\n",
       "      <td>...</td>\n",
       "      <td>...</td>\n",
       "      <td>...</td>\n",
       "      <td>...</td>\n",
       "      <td>...</td>\n",
       "      <td>...</td>\n",
       "    </tr>\n",
       "    <tr>\n",
       "      <th>145</th>\n",
       "      <td>543</td>\n",
       "      <td>Kibala</td>\n",
       "      <td>TD</td>\n",
       "      <td>77.00</td>\n",
       "      <td>9.11</td>\n",
       "      <td>18.35</td>\n",
       "      <td>few clouds</td>\n",
       "      <td>NaN</td>\n",
       "    </tr>\n",
       "    <tr>\n",
       "      <th>146</th>\n",
       "      <td>545</td>\n",
       "      <td>Bombay</td>\n",
       "      <td>IN</td>\n",
       "      <td>80.60</td>\n",
       "      <td>19.01</td>\n",
       "      <td>72.85</td>\n",
       "      <td>haze</td>\n",
       "      <td>Four Seasons Hotel Mumbai</td>\n",
       "    </tr>\n",
       "    <tr>\n",
       "      <th>147</th>\n",
       "      <td>546</td>\n",
       "      <td>San Lazaro</td>\n",
       "      <td>BZ</td>\n",
       "      <td>86.00</td>\n",
       "      <td>18.04</td>\n",
       "      <td>-88.66</td>\n",
       "      <td>scattered clouds</td>\n",
       "      <td>NaN</td>\n",
       "    </tr>\n",
       "    <tr>\n",
       "      <th>148</th>\n",
       "      <td>549</td>\n",
       "      <td>Bilma</td>\n",
       "      <td>NE</td>\n",
       "      <td>83.97</td>\n",
       "      <td>18.69</td>\n",
       "      <td>12.92</td>\n",
       "      <td>clear sky</td>\n",
       "      <td>Expeditions Ténére voyages</td>\n",
       "    </tr>\n",
       "    <tr>\n",
       "      <th>149</th>\n",
       "      <td>551</td>\n",
       "      <td>Itarema</td>\n",
       "      <td>BR</td>\n",
       "      <td>77.43</td>\n",
       "      <td>-2.92</td>\n",
       "      <td>-39.92</td>\n",
       "      <td>clear sky</td>\n",
       "      <td>Windvillage</td>\n",
       "    </tr>\n",
       "  </tbody>\n",
       "</table>\n",
       "<p>150 rows × 8 columns</p>\n",
       "</div>"
      ],
      "text/plain": [
       "     City_ID             City Country  Max Temp    Lat     Lng  \\\n",
       "0          2           Atuona      PF     80.11  -9.80 -139.03   \n",
       "1          7        Hithadhoo      MV     83.70  -0.60   73.08   \n",
       "2          9      Maine-Soroa      NE     85.82  13.21   12.02   \n",
       "3         10            Ambon      ID     82.40  -3.70  128.18   \n",
       "4         11  Nieuw Amsterdam      SR     82.40   5.88  -55.08   \n",
       "..       ...              ...     ...       ...    ...     ...   \n",
       "145      543           Kibala      TD     77.00   9.11   18.35   \n",
       "146      545           Bombay      IN     80.60  19.01   72.85   \n",
       "147      546       San Lazaro      BZ     86.00  18.04  -88.66   \n",
       "148      549            Bilma      NE     83.97  18.69   12.92   \n",
       "149      551          Itarema      BR     77.43  -2.92  -39.92   \n",
       "\n",
       "    Weather Description                  Hotel Name  \n",
       "0             clear sky                 Villa Enata  \n",
       "1       overcast clouds           Scoop Guest House  \n",
       "2             clear sky                         NaN  \n",
       "3           shower rain        Swiss-Belhotel Ambon  \n",
       "4            few clouds              Hotel Stardust  \n",
       "..                  ...                         ...  \n",
       "145          few clouds                         NaN  \n",
       "146                haze   Four Seasons Hotel Mumbai  \n",
       "147    scattered clouds                         NaN  \n",
       "148           clear sky  Expeditions Ténére voyages  \n",
       "149           clear sky                 Windvillage  \n",
       "\n",
       "[150 rows x 8 columns]"
      ]
     },
     "execution_count": 48,
     "metadata": {},
     "output_type": "execute_result"
    }
   ],
   "source": [
    "#Import WeatherPy_vacation csv\n",
    "vacation_df = pd.read_csv(\"Challenge/WeatherPy_vacation.csv\")\n",
    "vacation_df"
   ]
  },
  {
   "cell_type": "code",
   "execution_count": 49,
   "metadata": {},
   "outputs": [],
   "source": [
    "#Find 4 hotels within the same continent that are close together that people might want to vacation at. \n",
    "#Hotel 1\n",
    "#Hotel Name: Four Seasons Hotel Mumbai\n",
    "#City: Bombay\n",
    "#Country: IN\n",
    "#Max Temp: 80.6 °F\n",
    "#Current Weather: haze\n",
    "\n",
    "#Hotel 2\n",
    "#Hotel Name: Hotel Fort View\n",
    "#City: Phalodi\n",
    "#Country: IN\n",
    "#Max Temp: 88.81 °F\n",
    "#Current Weather: clear sky\n",
    "\n",
    "#Hotel 3\n",
    "#Hotel Name: Hotel Surya Royal\n",
    "#City:Kota\n",
    "#Country:IN\n",
    "#Max Temp:80.6 °F\n",
    "#Current Weather:broken clouds\n",
    "\n",
    "#Hotel 4\n",
    "#Hotel Name: OYO 1577 Hotel Shree Hari Grand\n",
    "#City: Puri\n",
    "#Country:IN\n",
    "#Max Temp:80.6 °F\n",
    "#Current Weather:mist"
   ]
  },
  {
   "cell_type": "code",
   "execution_count": 50,
   "metadata": {},
   "outputs": [],
   "source": [
    "Hotel_One_df = pd.DataFrame(vacation_df.loc[vacation_df[\"Hotel Name\"]==\"Four Seasons Hotel Mumbai\"])\n",
    "Hotel_Two_df = pd.DataFrame(vacation_df.loc[vacation_df[\"Hotel Name\"]==\"Hotel Fort View\"])\n",
    "Hotel_Three_df = pd.DataFrame(vacation_df.loc[vacation_df[\"Hotel Name\"]==\"Hotel Surya Royal\"])\n",
    "Hotel_Four_df = pd.DataFrame(vacation_df.loc[vacation_df[\"Hotel Name\"]==\"OYO 1577 Hotel Shree Hari Grand\"])\n"
   ]
  },
  {
   "cell_type": "code",
   "execution_count": 51,
   "metadata": {},
   "outputs": [
    {
     "data": {
      "text/html": [
       "<div>\n",
       "<style scoped>\n",
       "    .dataframe tbody tr th:only-of-type {\n",
       "        vertical-align: middle;\n",
       "    }\n",
       "\n",
       "    .dataframe tbody tr th {\n",
       "        vertical-align: top;\n",
       "    }\n",
       "\n",
       "    .dataframe thead th {\n",
       "        text-align: right;\n",
       "    }\n",
       "</style>\n",
       "<table border=\"1\" class=\"dataframe\">\n",
       "  <thead>\n",
       "    <tr style=\"text-align: right;\">\n",
       "      <th></th>\n",
       "      <th>City_ID</th>\n",
       "      <th>City</th>\n",
       "      <th>Country</th>\n",
       "      <th>Max Temp</th>\n",
       "      <th>Lat</th>\n",
       "      <th>Lng</th>\n",
       "      <th>Weather Description</th>\n",
       "      <th>Hotel Name</th>\n",
       "    </tr>\n",
       "  </thead>\n",
       "  <tbody>\n",
       "    <tr>\n",
       "      <th>71</th>\n",
       "      <td>271</td>\n",
       "      <td>Kota</td>\n",
       "      <td>IN</td>\n",
       "      <td>80.6</td>\n",
       "      <td>25.18</td>\n",
       "      <td>75.83</td>\n",
       "      <td>broken clouds</td>\n",
       "      <td>Hotel Surya Royal</td>\n",
       "    </tr>\n",
       "  </tbody>\n",
       "</table>\n",
       "</div>"
      ],
      "text/plain": [
       "    City_ID  City Country  Max Temp    Lat    Lng Weather Description  \\\n",
       "71      271  Kota      IN      80.6  25.18  75.83       broken clouds   \n",
       "\n",
       "           Hotel Name  \n",
       "71  Hotel Surya Royal  "
      ]
     },
     "execution_count": 51,
     "metadata": {},
     "output_type": "execute_result"
    }
   ],
   "source": [
    "Hotel_Three_df"
   ]
  },
  {
   "cell_type": "code",
   "execution_count": 52,
   "metadata": {},
   "outputs": [
    {
     "name": "stdout",
     "output_type": "stream",
     "text": [
      "(19.01, 72.85)\n",
      "(27.13, 72.37)\n",
      "(25.18, 75.83)\n",
      "(19.8, 85.85)\n"
     ]
    }
   ],
   "source": [
    "start = Hotel_One_df[\"Lat\"].values[0], Hotel_One_df[\"Lng\"].values[0]\n",
    "end= Hotel_Four_df[\"Lat\"].values[0], Hotel_Four_df[\"Lng\"].values[0]\n",
    "stop1= Hotel_Two_df[\"Lat\"].values[0], Hotel_Two_df[\"Lng\"].values[0]\n",
    "stop2 = Hotel_Three_df[\"Lat\"].values[0], Hotel_Three_df[\"Lng\"].values[0]\n",
    "\n",
    "print(start)\n",
    "print(stop1)\n",
    "print(stop2)\n",
    "print(end)"
   ]
  },
  {
   "cell_type": "code",
   "execution_count": 69,
   "metadata": {},
   "outputs": [
    {
     "data": {
      "application/vnd.jupyter.widget-view+json": {
       "model_id": "9eacec8ad23748549180db35069e85bc",
       "version_major": 2,
       "version_minor": 0
      },
      "text/plain": [
       "Figure(layout=FigureLayout(height='420px'))"
      ]
     },
     "metadata": {},
     "output_type": "display_data"
    },
    {
     "data": {
      "text/plain": [
       "<Figure size 432x288 with 0 Axes>"
      ]
     },
     "metadata": {},
     "output_type": "display_data"
    }
   ],
   "source": [
    "fig = gmaps.figure()\n",
    "hotel_trip = gmaps.directions_layer(\n",
    "    start, end,waypoints = [stop1, stop2],\n",
    "    travel_mode = 'DRIVING')\n",
    "fig.add_layer(hotel_trip)\n",
    "plt.savefig(\"Challenge/WeatherPy_travel_map.png\")\n",
    "fig"
   ]
  },
  {
   "cell_type": "code",
   "execution_count": 54,
   "metadata": {},
   "outputs": [],
   "source": [
    "Hotels_Complete_df = pd.concat([Hotel_One_df, Hotel_Two_df, Hotel_Three_df, Hotel_Four_df])"
   ]
  },
  {
   "cell_type": "code",
   "execution_count": 61,
   "metadata": {},
   "outputs": [
    {
     "data": {
      "text/html": [
       "<div>\n",
       "<style scoped>\n",
       "    .dataframe tbody tr th:only-of-type {\n",
       "        vertical-align: middle;\n",
       "    }\n",
       "\n",
       "    .dataframe tbody tr th {\n",
       "        vertical-align: top;\n",
       "    }\n",
       "\n",
       "    .dataframe thead th {\n",
       "        text-align: right;\n",
       "    }\n",
       "</style>\n",
       "<table border=\"1\" class=\"dataframe\">\n",
       "  <thead>\n",
       "    <tr style=\"text-align: right;\">\n",
       "      <th></th>\n",
       "      <th>City_ID</th>\n",
       "      <th>City</th>\n",
       "      <th>Country</th>\n",
       "      <th>Max Temp</th>\n",
       "      <th>Lat</th>\n",
       "      <th>Lng</th>\n",
       "      <th>Weather Description</th>\n",
       "      <th>Hotel Name</th>\n",
       "    </tr>\n",
       "  </thead>\n",
       "  <tbody>\n",
       "    <tr>\n",
       "      <th>0</th>\n",
       "      <td>545</td>\n",
       "      <td>Bombay</td>\n",
       "      <td>IN</td>\n",
       "      <td>80.60</td>\n",
       "      <td>19.01</td>\n",
       "      <td>72.85</td>\n",
       "      <td>haze</td>\n",
       "      <td>Four Seasons Hotel Mumbai</td>\n",
       "    </tr>\n",
       "    <tr>\n",
       "      <th>1</th>\n",
       "      <td>376</td>\n",
       "      <td>Phalodi</td>\n",
       "      <td>IN</td>\n",
       "      <td>88.81</td>\n",
       "      <td>27.13</td>\n",
       "      <td>72.37</td>\n",
       "      <td>clear sky</td>\n",
       "      <td>Hotel Fort View</td>\n",
       "    </tr>\n",
       "    <tr>\n",
       "      <th>2</th>\n",
       "      <td>271</td>\n",
       "      <td>Kota</td>\n",
       "      <td>IN</td>\n",
       "      <td>80.60</td>\n",
       "      <td>25.18</td>\n",
       "      <td>75.83</td>\n",
       "      <td>broken clouds</td>\n",
       "      <td>Hotel Surya Royal</td>\n",
       "    </tr>\n",
       "    <tr>\n",
       "      <th>3</th>\n",
       "      <td>375</td>\n",
       "      <td>Puri</td>\n",
       "      <td>IN</td>\n",
       "      <td>80.60</td>\n",
       "      <td>19.80</td>\n",
       "      <td>85.85</td>\n",
       "      <td>mist</td>\n",
       "      <td>OYO 1577 Hotel Shree Hari Grand</td>\n",
       "    </tr>\n",
       "  </tbody>\n",
       "</table>\n",
       "</div>"
      ],
      "text/plain": [
       "   City_ID     City Country  Max Temp    Lat    Lng Weather Description  \\\n",
       "0      545   Bombay      IN     80.60  19.01  72.85                haze   \n",
       "1      376  Phalodi      IN     88.81  27.13  72.37           clear sky   \n",
       "2      271     Kota      IN     80.60  25.18  75.83       broken clouds   \n",
       "3      375     Puri      IN     80.60  19.80  85.85                mist   \n",
       "\n",
       "                        Hotel Name  \n",
       "0        Four Seasons Hotel Mumbai  \n",
       "1                  Hotel Fort View  \n",
       "2                Hotel Surya Royal  \n",
       "3  OYO 1577 Hotel Shree Hari Grand  "
      ]
     },
     "execution_count": 61,
     "metadata": {},
     "output_type": "execute_result"
    }
   ],
   "source": [
    "Hotels_Complete_df.reset_index(drop = True)"
   ]
  },
  {
   "cell_type": "code",
   "execution_count": 63,
   "metadata": {},
   "outputs": [],
   "source": [
    "info_box_template = \"\"\"\n",
    "<dl>\n",
    "<dt>Hotel Name</dt><dd>{Hotel Name}</dd>\n",
    "<dt>City</dt><dd>{City}</dd>\n",
    "<dt>Country</dt><dd>{Country}</dd>\n",
    "<dt>Current Weather</dt><dd>{Weather Description} & {Max Temp} °F</dd>\n",
    "</dl>\n",
    "\"\"\"\n",
    "# Store the DataFrame Row.\n",
    "hotel_info = [info_box_template.format(**row) for index, row in Hotels_Complete_df.iterrows()]\n",
    "locations = Hotels_Complete_df[[\"Lat\", \"Lng\"]]"
   ]
  },
  {
   "cell_type": "code",
   "execution_count": 68,
   "metadata": {},
   "outputs": [
    {
     "data": {
      "application/vnd.jupyter.widget-view+json": {
       "model_id": "1a418ecd14a8486fbd72dcadc16df79d",
       "version_major": 2,
       "version_minor": 0
      },
      "text/plain": [
       "Figure(layout=FigureLayout(height='420px'))"
      ]
     },
     "metadata": {},
     "output_type": "display_data"
    },
    {
     "data": {
      "text/plain": [
       "<Figure size 432x288 with 0 Axes>"
      ]
     },
     "metadata": {},
     "output_type": "display_data"
    }
   ],
   "source": [
    "marker_layer =gmaps.marker_layer(locations, info_box_content= hotel_info)\n",
    "fig=gmaps.figure()\n",
    "fig.add_layer(marker_layer)\n",
    "plt.savefig(\"Challenge/WeatherPy_travel_map_markers.png\")\n",
    "fig"
   ]
  },
  {
   "cell_type": "code",
   "execution_count": null,
   "metadata": {},
   "outputs": [],
   "source": []
  }
 ],
 "metadata": {
  "kernelspec": {
   "display_name": "Python 3",
   "language": "python",
   "name": "python3"
  },
  "language_info": {
   "codemirror_mode": {
    "name": "ipython",
    "version": 3
   },
   "file_extension": ".py",
   "mimetype": "text/x-python",
   "name": "python",
   "nbconvert_exporter": "python",
   "pygments_lexer": "ipython3",
   "version": "3.7.6"
  }
 },
 "nbformat": 4,
 "nbformat_minor": 4
}
